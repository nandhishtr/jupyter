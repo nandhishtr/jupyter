{
  "nbformat": 4,
  "nbformat_minor": 0,
  "metadata": {
    "colab": {
      "name": "Assignment1.ipynb",
      "provenance": [],
      "collapsed_sections": [],
      "authorship_tag": "ABX9TyO3sA9K6PiIZDEazYgSJvNp",
      "include_colab_link": true
    },
    "kernelspec": {
      "name": "python3",
      "display_name": "Python 3"
    }
  },
  "cells": [
    {
      "cell_type": "markdown",
      "metadata": {
        "id": "view-in-github",
        "colab_type": "text"
      },
      "source": [
        "<a href=\"https://colab.research.google.com/github/nandhishtr/jupyter/blob/master/Assignment%201.ipynb\" target=\"_parent\"><img src=\"https://colab.research.google.com/assets/colab-badge.svg\" alt=\"Open In Colab\"/></a>"
      ]
    },
    {
      "cell_type": "markdown",
      "metadata": {
        "id": "xDvl2o6v-Rig",
        "colab_type": "text"
      },
      "source": [
        "1. Write a function that inputs a number and prints the multiplication table of that number"
      ]
    },
    {
      "cell_type": "code",
      "metadata": {
        "id": "EwQduML6AfEI",
        "colab_type": "code",
        "colab": {}
      },
      "source": [
        "def multiplication_table(num):\n",
        "  ''' Fuction takes a number and returns its multiplication table'''\n",
        "  for i in range(1,11): # multiplication from num*1 to num*10\n",
        "    print(f'{num} x {i} = {num*i}') \n",
        "  return"
      ],
      "execution_count": 171,
      "outputs": []
    },
    {
      "cell_type": "code",
      "metadata": {
        "id": "H0glhbYB-7uA",
        "colab_type": "code",
        "colab": {
          "base_uri": "https://localhost:8080/",
          "height": 187
        },
        "outputId": "bc647c96-505a-4e63-be3f-e063b721b7d1"
      },
      "source": [
        "multiplication_table(2)"
      ],
      "execution_count": 172,
      "outputs": [
        {
          "output_type": "stream",
          "text": [
            "2 x 1 = 2\n",
            "2 x 2 = 4\n",
            "2 x 3 = 6\n",
            "2 x 4 = 8\n",
            "2 x 5 = 10\n",
            "2 x 6 = 12\n",
            "2 x 7 = 14\n",
            "2 x 8 = 16\n",
            "2 x 9 = 18\n",
            "2 x 10 = 20\n"
          ],
          "name": "stdout"
        }
      ]
    },
    {
      "cell_type": "markdown",
      "metadata": {
        "id": "VWEaBXwK_RnF",
        "colab_type": "text"
      },
      "source": [
        "2. Write a program to print twin primes less than 1000. If two consecutive odd numbers are both prime then they are known as twin primes"
      ]
    },
    {
      "cell_type": "code",
      "metadata": {
        "id": "aEkJ5Nu__gSV",
        "colab_type": "code",
        "colab": {}
      },
      "source": [
        "def is_prime(num):\n",
        "  ''' This Function checks if the number is prime or not, returns True if the number is prime'''\n",
        "  #if number is divisible by any number other than 1 or itself, it is not a prime number\n",
        "  for i in range(2,num):\n",
        "    if num%i == 0:  \n",
        "      return False\n",
        "  return True\n",
        "\n",
        "def all_primes(num):\n",
        "  '''Function to generate all prime numbers less than the given number, returns a list of prime numbers'''\n",
        "  #generating integers between 2 and num\n",
        "  all_num = [i for i in range(2,num)] \n",
        "  #Filtering prime Numbers from the list\n",
        "  prime_list = list(filter(is_prime, all_num)) \n",
        "  return prime_list\n",
        "\n",
        "\n",
        "def twin_primes(num):\n",
        "  '''Function to Print all the twin primes less than the given number.'''\n",
        "  # list of all prime numbers less than given number\n",
        "  my_list = all_primes(num) \n",
        "  print(f'All the twin primes less than {num} are: ')\n",
        "  # excluding first prime number (2) because it's the only even prime\n",
        "  for i in range(1,len(my_list)-1): \n",
        "    if (my_list[i] + 2) == my_list[i+1]:\n",
        "      print(f'{my_list[i]} and {my_list[i+1]}')"
      ],
      "execution_count": 173,
      "outputs": []
    },
    {
      "cell_type": "code",
      "metadata": {
        "id": "Quus6GhvCBm4",
        "colab_type": "code",
        "colab": {
          "base_uri": "https://localhost:8080/",
          "height": 629
        },
        "outputId": "b11b5771-aeb9-4c34-baef-f8b1d76c1828"
      },
      "source": [
        "twin_primes(1000)"
      ],
      "execution_count": 174,
      "outputs": [
        {
          "output_type": "stream",
          "text": [
            "All the twin primes less than 1000 are: \n",
            "3 and 5\n",
            "5 and 7\n",
            "11 and 13\n",
            "17 and 19\n",
            "29 and 31\n",
            "41 and 43\n",
            "59 and 61\n",
            "71 and 73\n",
            "101 and 103\n",
            "107 and 109\n",
            "137 and 139\n",
            "149 and 151\n",
            "179 and 181\n",
            "191 and 193\n",
            "197 and 199\n",
            "227 and 229\n",
            "239 and 241\n",
            "269 and 271\n",
            "281 and 283\n",
            "311 and 313\n",
            "347 and 349\n",
            "419 and 421\n",
            "431 and 433\n",
            "461 and 463\n",
            "521 and 523\n",
            "569 and 571\n",
            "599 and 601\n",
            "617 and 619\n",
            "641 and 643\n",
            "659 and 661\n",
            "809 and 811\n",
            "821 and 823\n",
            "827 and 829\n",
            "857 and 859\n",
            "881 and 883\n"
          ],
          "name": "stdout"
        }
      ]
    },
    {
      "cell_type": "markdown",
      "metadata": {
        "id": "shY01qMNQJ_k",
        "colab_type": "text"
      },
      "source": [
        "3. Write a program to find out the prime factors of a number. Example: prime factors of 56 -\n",
        "2, 2, 2, 7"
      ]
    },
    {
      "cell_type": "code",
      "metadata": {
        "id": "olqer4_zQOYl",
        "colab_type": "code",
        "colab": {
          "base_uri": "https://localhost:8080/",
          "height": 85
        },
        "outputId": "de3d5ca2-db68-4a16-a88a-ecbe05467e0b"
      },
      "source": [
        "#Using all_prime functions from the previous question\n",
        "import time\n",
        "while True:\n",
        "  try:\n",
        "    number = int(input(\"Enter a number: \"))\n",
        "    if number < 1:\n",
        "      raise ValueError(\"Error:Please enter a positive number\")\n",
        "  except ValueError as e:\n",
        "    print(e)\n",
        "  else:\n",
        "    break\n",
        "\n",
        "#list of all prime numbers less than given number, except 2\n",
        "primes = all_primes(number) \n",
        "print(f'Prime factors of {number} are: ')\n",
        "\n",
        "#if the number after the above operation is not prime, keep reducing it until it is prime\n",
        "while not is_prime(number):\n",
        "  for prime in primes:\n",
        "    # if the number is divisible by a prime number from the list, print that number\n",
        "    if number % prime == 0:\n",
        "      print(prime)\n",
        "      #as we got the prime number, we now reduce the number and break out of the for loop to avoid futher iterations\n",
        "      number = number //prime\n",
        "      break\n",
        "print(number)\n"
      ],
      "execution_count": 175,
      "outputs": [
        {
          "output_type": "stream",
          "text": [
            "Enter a number: 94\n",
            "Prime factors of 94 are: \n",
            "2\n",
            "47\n"
          ],
          "name": "stdout"
        }
      ]
    },
    {
      "cell_type": "markdown",
      "metadata": {
        "id": "Mv4rB5oIyALU",
        "colab_type": "text"
      },
      "source": [
        "4. Write a program to implement these formulae of permutations and combinations.\n",
        "Number of permutations of n objects taken r at a time: p(n, r) = n! / (n-r)!. Number of combinations of n objects taken r at a time is: c(n, r) = n! / (r!*(n-r)!) = p(n,r) / r!\n"
      ]
    },
    {
      "cell_type": "code",
      "metadata": {
        "id": "AYxKCaKRyDaP",
        "colab_type": "code",
        "colab": {}
      },
      "source": [
        "def factorial(n):\n",
        "  ''' Function to calculate factorial of a number'''\n",
        "  return 1 if n <= 1 else n * factorial(n-1)\n",
        "\n",
        "def p(n,r):\n",
        "  '''Function to calculate number of permutations of n objects taken r at a time'''\n",
        "\n",
        "  try:\n",
        "    npr = factorial(n)//factorial(n-r)\n",
        "  except:\n",
        "    return \"Please enter a non-negative number n,r\"\n",
        "  return npr\n",
        "  \n",
        "\n",
        "def c(n,r):\n",
        "  '''Function to calculate number of combinations of n objects taken r at a time'''\n",
        "  try:\n",
        "    ncr = p(n,r)//factorial(r)\n",
        "  except:\n",
        "    return \"Please enter a non-negative number n,r\"\n",
        "  return ncr"
      ],
      "execution_count": 176,
      "outputs": []
    },
    {
      "cell_type": "code",
      "metadata": {
        "id": "2XGswHRs0D05",
        "colab_type": "code",
        "colab": {
          "base_uri": "https://localhost:8080/",
          "height": 85
        },
        "outputId": "2243fc24-b931-4044-ce94-303b24253fd7"
      },
      "source": [
        "print('Enter n: ', end = ' ')\n",
        "n = int(input())\n",
        "print('Enter r: ', end = ' ')\n",
        "r = int(input())\n",
        "\n",
        "print(f'nPr : {p(n,r)}')\n",
        "print(f'nCr : {c(n,r)}')"
      ],
      "execution_count": 177,
      "outputs": [
        {
          "output_type": "stream",
          "text": [
            "Enter n:  10\n",
            "Enter r:  3\n",
            "nPr : 720\n",
            "nCr : 120\n"
          ],
          "name": "stdout"
        }
      ]
    },
    {
      "cell_type": "markdown",
      "metadata": {
        "id": "TAlLOVjBmJ4N",
        "colab_type": "text"
      },
      "source": [
        "5. Write a function that converts a decimal number to binary number."
      ]
    },
    {
      "cell_type": "code",
      "metadata": {
        "id": "T_al9c-umtn7",
        "colab_type": "code",
        "colab": {}
      },
      "source": [
        "def decimal_to_binary(num):\n",
        "  ''' Function to convert a decimal number into binary number'''\n",
        "  pos_num = abs(num)\n",
        "  binary = ''\n",
        "\n",
        "  while pos_num!= 0:\n",
        "    #progressively dividing the number\n",
        "    binary += str(pos_num%2)\n",
        "    pos_num = pos_num//2\n",
        "  \n",
        "  binary = binary[::-1]\n",
        "  # Using 1's complement to represent binary numbers\n",
        "  return '0'+ binary if num>= 0 else '1'+ binary"
      ],
      "execution_count": 178,
      "outputs": []
    },
    {
      "cell_type": "code",
      "metadata": {
        "id": "JKS8DBv0w8Ij",
        "colab_type": "code",
        "colab": {
          "base_uri": "https://localhost:8080/",
          "height": 51
        },
        "outputId": "d9492de7-298f-4aa1-becf-ef353bb78ec9"
      },
      "source": [
        "number = int(input('Enter a number: '))\n",
        "binary = decimal_to_binary(number)\n",
        "print(f'Binary of {number} is {binary}')"
      ],
      "execution_count": 179,
      "outputs": [
        {
          "output_type": "stream",
          "text": [
            "Enter a number: 11\n",
            "Binary of 11 is 01011\n"
          ],
          "name": "stdout"
        }
      ]
    },
    {
      "cell_type": "markdown",
      "metadata": {
        "id": "STQNo3I9zFqc",
        "colab_type": "text"
      },
      "source": [
        "6. Write a function cubesum() that accepts an integer and returns the sum of the cubes of\n",
        "individual digits of that number. Use this function to make functions PrintArmstrong() and\n",
        "isArmstrong() to print Armstrong numbers and to find whether is an Armstrong number."
      ]
    },
    {
      "cell_type": "code",
      "metadata": {
        "id": "dv46JqE-zag3",
        "colab_type": "code",
        "colab": {}
      },
      "source": [
        "def cubesum(num):\n",
        "  '''Function that calculates the sum of cubes of individual digits of that numbers'''\n",
        "  #getting digits separately by making the number a string\n",
        "  digits = list(str(num))\n",
        "  cubes_of_digits = [int(i)**3 for i in digits]\n",
        "  sum_of_cubes = sum(cubes_of_digits)\n",
        "  return sum_of_cubes\n",
        "\n",
        "def isArmstrong(num):\n",
        "  '''Function to check if a number is Armstrong or not'''\n",
        "  return num == cubesum(num)\n",
        "\n",
        "def PrintArmstrong(num):\n",
        "  'Function to print all armstrong numbers till the given number'\n",
        "  print(f\"Armstrong numbers till {num} are :\")\n",
        "  for i in range(num+1):\n",
        "    if isArmstrong(i):\n",
        "      print(i)"
      ],
      "execution_count": 181,
      "outputs": []
    },
    {
      "cell_type": "code",
      "metadata": {
        "id": "1Dzzjmxj6Z1A",
        "colab_type": "code",
        "colab": {
          "base_uri": "https://localhost:8080/",
          "height": 153
        },
        "outputId": "b1776553-3822-412e-9e44-513f0bf07fc0"
      },
      "source": [
        "number = int(input('Enter a number till which you want all armstrong numbers: '))\n",
        "PrintArmstrong(number)"
      ],
      "execution_count": 183,
      "outputs": [
        {
          "output_type": "stream",
          "text": [
            "Enter a number till which you want all armstrong numbers: 9494\n",
            "Armstrong numbers till 9494 are :\n",
            "0\n",
            "1\n",
            "153\n",
            "370\n",
            "371\n",
            "407\n"
          ],
          "name": "stdout"
        }
      ]
    },
    {
      "cell_type": "markdown",
      "metadata": {
        "id": "sq9Tr4D77g6p",
        "colab_type": "text"
      },
      "source": [
        "7. Write a function prodDigits() that inputs a number and returns the product of digits of that number."
      ]
    },
    {
      "cell_type": "code",
      "metadata": {
        "id": "YSWiTOxn7ne1",
        "colab_type": "code",
        "colab": {}
      },
      "source": [
        "from functools import reduce\n",
        "def prodDigits(num):\n",
        "  '''Function that returns the products of digits of a number'''\n",
        "  digits = list(str(num)) # converting it into string and separate digits into a list\n",
        "  product = reduce(lambda x,y : x*y, [int(i) for i in digits])\n",
        "  return product"
      ],
      "execution_count": 184,
      "outputs": []
    },
    {
      "cell_type": "code",
      "metadata": {
        "id": "m6t8IsUL8T1E",
        "colab_type": "code",
        "colab": {
          "base_uri": "https://localhost:8080/",
          "height": 51
        },
        "outputId": "abd44547-7940-48bd-def9-95be21956c03"
      },
      "source": [
        "number = int(input('Enter a number: '))\n",
        "product = prodDigits(number)\n",
        "print(f'Product of digits of {number} is {product}')"
      ],
      "execution_count": 187,
      "outputs": [
        {
          "output_type": "stream",
          "text": [
            "Enter a number: 123\n",
            "Product of digits of 123 is 6\n"
          ],
          "name": "stdout"
        }
      ]
    },
    {
      "cell_type": "markdown",
      "metadata": {
        "id": "IZ3795fF9WWs",
        "colab_type": "text"
      },
      "source": [
        "8. If all digits of a number n are multiplied by each other repeating with the product, the one digit number obtained at last is called the multiplicative digital root of n. The number of times digits need to be multiplied to reach one digit is called the multiplicative persistance of n.\n",
        "\n",
        "  Example: 86 -> 48 -> 32 -> 6 (MDR 6, MPersistence 3)\n",
        "\n",
        "  341 -> 12->2 (MDR 2, MPersistence 2)\n",
        "\n",
        "  Using the function prodDigits() of previous exercise write functions MDR() and\n",
        "  MPersistence() that input a number and return its multiplicative digital root and multiplicative persistence respectively"
      ]
    },
    {
      "cell_type": "code",
      "metadata": {
        "id": "DyH15uWMCNLx",
        "colab_type": "code",
        "colab": {}
      },
      "source": [
        "def MDR(num):\n",
        "  '''Function returns multiplicative digital root of the given number'''\n",
        "  #while executes until the digits is reduced to 1\n",
        "  while len(str(num)) != 1:\n",
        "    num = prodDigits(num)\n",
        "  return num\n",
        "\n",
        "def Mpersistence(num):\n",
        "  '''Function returns the multiplicative persistance of a number'''\n",
        "  persistance = 0\n",
        "  #while executes until the digits is reduced to 1\n",
        "  while len(str(num)) != 1:\n",
        "   num = prodDigits(num)\n",
        "   persistance += 1\n",
        "  return persistance"
      ],
      "execution_count": 188,
      "outputs": []
    },
    {
      "cell_type": "code",
      "metadata": {
        "id": "YXgzXrLEDEuz",
        "colab_type": "code",
        "colab": {
          "base_uri": "https://localhost:8080/",
          "height": 68
        },
        "outputId": "45a1401c-d979-4df7-933e-e4647d055d2b"
      },
      "source": [
        "number = int(input(\"Enter a Number: \"))\n",
        "print(\"MDR :\", MDR(number))\n",
        "print(\"Mpersistance : \", Mpersistence(number))"
      ],
      "execution_count": 189,
      "outputs": [
        {
          "output_type": "stream",
          "text": [
            "Enter a Number: 86\n",
            "MDR : 6\n",
            "Mpersistance :  3\n"
          ],
          "name": "stdout"
        }
      ]
    },
    {
      "cell_type": "markdown",
      "metadata": {
        "id": "tod5qAyfEiKk",
        "colab_type": "text"
      },
      "source": [
        "9. Write a function sumPdivisors() that finds the sum of proper divisors of a number. Proper divisors of a number are those numbers by which the number is divisible, except the number itself. For example proper divisors of 36 are 1, 2, 3, 4, 6, 9, 18"
      ]
    },
    {
      "cell_type": "code",
      "metadata": {
        "id": "6ND-nlVkE1-c",
        "colab_type": "code",
        "colab": {}
      },
      "source": [
        "def sumPdivisors(num):\n",
        "  sum = 0\n",
        "  for i in range(1, (num//2)+1):\n",
        "    if num%i == 0:\n",
        "      sum += i\n",
        "  return sum"
      ],
      "execution_count": 190,
      "outputs": []
    },
    {
      "cell_type": "code",
      "metadata": {
        "id": "Rj0MKOwMGdho",
        "colab_type": "code",
        "colab": {
          "base_uri": "https://localhost:8080/",
          "height": 51
        },
        "outputId": "c88c0c42-d89c-4808-b720-0d32a251c617"
      },
      "source": [
        "number = int(input(\"Enter a Number: \"))\n",
        "sum_p_d = sumPdivisors(number)\n",
        "print(f\"Sum of proper divisors of {number} is : {sum_p_d}\")"
      ],
      "execution_count": 191,
      "outputs": [
        {
          "output_type": "stream",
          "text": [
            "Enter a Number: 36\n",
            "Sum of proper divisors of 36 is : 55\n"
          ],
          "name": "stdout"
        }
      ]
    },
    {
      "cell_type": "markdown",
      "metadata": {
        "id": "NTfpo3w-HQlA",
        "colab_type": "text"
      },
      "source": [
        "10. A number is called perfect if the sum of proper divisors of that number is equal to the number. For example 28 is perfect number, since 1+2+4+7+14=28. Write a program to print all the perfect numbers in a given range"
      ]
    },
    {
      "cell_type": "code",
      "metadata": {
        "id": "b42CC9kqIVCC",
        "colab_type": "code",
        "colab": {
          "base_uri": "https://localhost:8080/",
          "height": 102
        },
        "outputId": "411885d6-c66f-46e1-bc7c-c18bf93447cb"
      },
      "source": [
        "start = int(input('Enter the starting value: '))\n",
        "end = int(input(\"Enter the ending value: \"))\n",
        "print(f'Perfect numbers in range of ({start},{end}) are: ')\n",
        "for i in range(start,end+1):\n",
        "  # check if number is equal to sum of all divisors\n",
        "  if i == sumPdivisors(i):\n",
        "    print(i)"
      ],
      "execution_count": 192,
      "outputs": [
        {
          "output_type": "stream",
          "text": [
            "Enter the starting value: 1\n",
            "Enter the ending value: 123\n",
            "Perfect numbers in range of (1,123) are: \n",
            "6\n",
            "28\n"
          ],
          "name": "stdout"
        }
      ]
    },
    {
      "cell_type": "markdown",
      "metadata": {
        "id": "pz4mfAQpL0pC",
        "colab_type": "text"
      },
      "source": [
        "11. Two different numbers are called amicable numbers if the sum of the proper divisors of each is equal to the other number. For example 220 and 284 are amicable numbers.\n",
        "\n",
        "  Sum of proper divisors of 220 = 1+2+4+5+10+11+20+22+44+55+110 = 284\n",
        "  Sum of proper divisors of 284 = 1+2+4+71+142 = 220\n",
        "\n",
        "  Write a function to print pairs of amicable numbers in a range."
      ]
    },
    {
      "cell_type": "code",
      "metadata": {
        "id": "fnhxFwu7MWKT",
        "colab_type": "code",
        "colab": {}
      },
      "source": [
        "def amicable_numbers(start,end):\n",
        "  #generating numbers in the given range\n",
        "  numbers_in_range = [i for i in range(start,end+1)]\n",
        "  count = 0\n",
        "  for number in numbers_in_range:\n",
        "    divisors_sum = sumPdivisors(number)\n",
        "    #if sum of divisors of my number is in the range and, if sum of sum of divisors equal to my number \n",
        "    if divisors_sum in numbers_in_range and sumPdivisors(divisors_sum) == number:\n",
        "      #amicable numbers are 2 different numbers, can't be same number\n",
        "      if number != divisors_sum:\n",
        "        print(number,divisors_sum)\n",
        "        count += 1\n",
        "  if count == 0 :\n",
        "    print(\"No Amicable pairs in this range\") "
      ],
      "execution_count": 193,
      "outputs": []
    },
    {
      "cell_type": "code",
      "metadata": {
        "id": "up3h78VSNrBq",
        "colab_type": "code",
        "colab": {
          "base_uri": "https://localhost:8080/",
          "height": 136
        },
        "outputId": "b85c692b-a585-43be-f5f5-3f2692b810a6"
      },
      "source": [
        "start = int(input('Enter the starting value: '))\n",
        "end = int(input(\"Enter the ending value: \"))\n",
        "print(f'Amicable numbers in range of ({start},{end}) are: ')\n",
        "amicable_numbers(start,end)"
      ],
      "execution_count": 194,
      "outputs": [
        {
          "output_type": "stream",
          "text": [
            "Enter the starting value: 10\n",
            "Enter the ending value: 1221\n",
            "Amicable numbers in range of (10,1221) are: \n",
            "220 284\n",
            "284 220\n",
            "1184 1210\n",
            "1210 1184\n"
          ],
          "name": "stdout"
        }
      ]
    },
    {
      "cell_type": "markdown",
      "metadata": {
        "id": "peLAwaWCApQy",
        "colab_type": "text"
      },
      "source": [
        "12. Write a program which can filter odd numbers in a list by using filter function"
      ]
    },
    {
      "cell_type": "code",
      "metadata": {
        "id": "hCOsoCmABJCE",
        "colab_type": "code",
        "colab": {}
      },
      "source": [
        "def input_list():\n",
        "  '''Function to get a list of elements as input'''\n",
        "  numbers = []\n",
        "  length = int(input('Enter the length of the list: '))\n",
        "  print('Enter the numbers: ')\n",
        "  for i in range(length):\n",
        "    numbers.append(int(input()))\n",
        "  return numbers\n"
      ],
      "execution_count": 195,
      "outputs": []
    },
    {
      "cell_type": "code",
      "metadata": {
        "id": "nEaimxDF1RtN",
        "colab_type": "code",
        "colab": {
          "base_uri": "https://localhost:8080/",
          "height": 170
        },
        "outputId": "4592045c-6312-4aa3-dd92-6e93efd164b4"
      },
      "source": [
        "numbers = input_list()\n",
        "print('Input List :',numbers)\n",
        "odd_numbers = list(filter(lambda num: num % 2, numbers)) #filtering numbers whose remainder is non-zero\n",
        "print('List of odd numbers in the given list are: ', odd_numbers)"
      ],
      "execution_count": 196,
      "outputs": [
        {
          "output_type": "stream",
          "text": [
            "Enter the length of the list: 5\n",
            "Enter the numbers: \n",
            "1\n",
            "2\n",
            "3\n",
            "4\n",
            "5\n",
            "Input List : [1, 2, 3, 4, 5]\n",
            "List of odd numbers in the given list are:  [1, 3, 5]\n"
          ],
          "name": "stdout"
        }
      ]
    },
    {
      "cell_type": "markdown",
      "metadata": {
        "id": "AZ-T2anuCPxI",
        "colab_type": "text"
      },
      "source": [
        "13. Write a program which can map() to make a list whose elements are cube of elements in a given list"
      ]
    },
    {
      "cell_type": "code",
      "metadata": {
        "id": "KC96D-emBquU",
        "colab_type": "code",
        "colab": {
          "base_uri": "https://localhost:8080/",
          "height": 170
        },
        "outputId": "e5b3883c-5fcf-4e0b-e6ae-745393969277"
      },
      "source": [
        "#reusing input_list() function from previous question to input a list\n",
        "given_list = input_list()\n",
        "print('Given List :',given_list)\n",
        "cube_list = list(map(lambda x: x**3, given_list)) #list of cubes of all the elements in the given list\n",
        "print('List of cubes of elements: ',cube_list)"
      ],
      "execution_count": 197,
      "outputs": [
        {
          "output_type": "stream",
          "text": [
            "Enter the length of the list: 5\n",
            "Enter the numbers: \n",
            "1\n",
            "2\n",
            "3\n",
            "4\n",
            "5\n",
            "Given List : [1, 2, 3, 4, 5]\n",
            "List of cubes of elements:  [1, 8, 27, 64, 125]\n"
          ],
          "name": "stdout"
        }
      ]
    },
    {
      "cell_type": "markdown",
      "metadata": {
        "id": "IemArEoVEGw4",
        "colab_type": "text"
      },
      "source": [
        "14. Write a program which can map() and filter() to make a list whose elements are cube of even number in a given list"
      ]
    },
    {
      "cell_type": "code",
      "metadata": {
        "id": "x0P7PG1cDdRV",
        "colab_type": "code",
        "colab": {
          "base_uri": "https://localhost:8080/",
          "height": 187
        },
        "outputId": "d6c490b2-acb4-4df7-fca4-cdab28e725f6"
      },
      "source": [
        "#reusing input_list() function from previous question to input a list\n",
        "given_list = input_list()\n",
        "print('Given List :',given_list)\n",
        "cube_list = list(map(lambda x: x**3, given_list)) #list of cubes of all the elements in the list\n",
        "even_cube_list = list(filter(lambda x : x%2 == 0, cube_list)) #filtering only cubes which are even\n",
        "print(\"List of cubes of all given elements: \",cube_list)\n",
        "print(\"List of even cube elements: \",even_cube_list)"
      ],
      "execution_count": 201,
      "outputs": [
        {
          "output_type": "stream",
          "text": [
            "Enter the length of the list: 5\n",
            "Enter the numbers: \n",
            "1\n",
            "2\n",
            "3\n",
            "4\n",
            "5\n",
            "Given List : [1, 2, 3, 4, 5]\n",
            "List of cubes of all given elements:  [1, 8, 27, 64, 125]\n",
            "List of even cube elements:  [8, 64]\n"
          ],
          "name": "stdout"
        }
      ]
    },
    {
      "cell_type": "code",
      "metadata": {
        "id": "voGJfbX5275C",
        "colab_type": "code",
        "colab": {}
      },
      "source": [
        ""
      ],
      "execution_count": null,
      "outputs": []
    }
  ]
}